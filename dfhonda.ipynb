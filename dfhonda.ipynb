{
 "cells": [
  {
   "cell_type": "code",
   "execution_count": 12,
   "metadata": {},
   "outputs": [],
   "source": [
    "import pandas as pd\n",
    "enade = pd.read_csv(\"honda_sell_data.csv\")"
   ]
  },
  {
   "cell_type": "code",
   "execution_count": 13,
   "metadata": {},
   "outputs": [
    {
     "data": {
      "text/plain": [
       "(4999, 25)"
      ]
     },
     "execution_count": 13,
     "metadata": {},
     "output_type": "execute_result"
    }
   ],
   "source": [
    "enade.shape"
   ]
  },
  {
   "cell_type": "code",
   "execution_count": 14,
   "metadata": {},
   "outputs": [
    {
     "data": {
      "text/html": [
       "<div>\n",
       "<style scoped>\n",
       "    .dataframe tbody tr th:only-of-type {\n",
       "        vertical-align: middle;\n",
       "    }\n",
       "\n",
       "    .dataframe tbody tr th {\n",
       "        vertical-align: top;\n",
       "    }\n",
       "\n",
       "    .dataframe thead th {\n",
       "        text-align: right;\n",
       "    }\n",
       "</style>\n",
       "<table border=\"1\" class=\"dataframe\">\n",
       "  <thead>\n",
       "    <tr style=\"text-align: right;\">\n",
       "      <th></th>\n",
       "      <th>Year</th>\n",
       "      <th>Make</th>\n",
       "      <th>Model</th>\n",
       "      <th>Condition</th>\n",
       "      <th>Price</th>\n",
       "      <th>Consumer_Rating</th>\n",
       "      <th>Consumer_Review_#</th>\n",
       "      <th>Exterior_Color</th>\n",
       "      <th>Interior_Color</th>\n",
       "      <th>Drivetrain</th>\n",
       "      <th>...</th>\n",
       "      <th>Stock_#</th>\n",
       "      <th>Mileage</th>\n",
       "      <th>Comfort_Rating</th>\n",
       "      <th>Interior_Design_Rating</th>\n",
       "      <th>Performance_Rating</th>\n",
       "      <th>Value_For_Money_Rating</th>\n",
       "      <th>Exterior_Styling_Rating</th>\n",
       "      <th>Reliability_Rating</th>\n",
       "      <th>State</th>\n",
       "      <th>Seller_Type</th>\n",
       "    </tr>\n",
       "  </thead>\n",
       "  <tbody>\n",
       "    <tr>\n",
       "      <th>0</th>\n",
       "      <td>2023</td>\n",
       "      <td>Honda</td>\n",
       "      <td>Ridgeline RTL</td>\n",
       "      <td>New</td>\n",
       "      <td>$46,370</td>\n",
       "      <td>4.8</td>\n",
       "      <td>9</td>\n",
       "      <td>Platinum White Pearl</td>\n",
       "      <td>Beige</td>\n",
       "      <td>All-wheel Drive</td>\n",
       "      <td>...</td>\n",
       "      <td>00830164</td>\n",
       "      <td>10</td>\n",
       "      <td>5.0</td>\n",
       "      <td>4.8</td>\n",
       "      <td>4.8</td>\n",
       "      <td>4.2</td>\n",
       "      <td>5.0</td>\n",
       "      <td>5.0</td>\n",
       "      <td>CA</td>\n",
       "      <td>Dealer</td>\n",
       "    </tr>\n",
       "    <tr>\n",
       "      <th>1</th>\n",
       "      <td>2023</td>\n",
       "      <td>Honda</td>\n",
       "      <td>CR-V Hybrid Sport</td>\n",
       "      <td>New</td>\n",
       "      <td>$34,150</td>\n",
       "      <td>1.7</td>\n",
       "      <td>24</td>\n",
       "      <td>Platinum White Pearl</td>\n",
       "      <td>Black</td>\n",
       "      <td>FWD</td>\n",
       "      <td>...</td>\n",
       "      <td>6402953</td>\n",
       "      <td>–</td>\n",
       "      <td>5.0</td>\n",
       "      <td>3.0</td>\n",
       "      <td>4.0</td>\n",
       "      <td>4.0</td>\n",
       "      <td>5.0</td>\n",
       "      <td>5.0</td>\n",
       "      <td>CA</td>\n",
       "      <td>Dealer</td>\n",
       "    </tr>\n",
       "    <tr>\n",
       "      <th>2</th>\n",
       "      <td>2023</td>\n",
       "      <td>Honda</td>\n",
       "      <td>CR-V Hybrid Sport</td>\n",
       "      <td>New</td>\n",
       "      <td>$34,245</td>\n",
       "      <td>4.7</td>\n",
       "      <td>2869</td>\n",
       "      <td>Meteorite Gray Metallic</td>\n",
       "      <td>Black</td>\n",
       "      <td>Front-wheel Drive</td>\n",
       "      <td>...</td>\n",
       "      <td>PH704805</td>\n",
       "      <td>1</td>\n",
       "      <td>5.0</td>\n",
       "      <td>3.0</td>\n",
       "      <td>4.0</td>\n",
       "      <td>4.0</td>\n",
       "      <td>5.0</td>\n",
       "      <td>5.0</td>\n",
       "      <td>CA</td>\n",
       "      <td>Dealer</td>\n",
       "    </tr>\n",
       "    <tr>\n",
       "      <th>3</th>\n",
       "      <td>2022</td>\n",
       "      <td>Honda</td>\n",
       "      <td>Pilot TrailSport</td>\n",
       "      <td>New</td>\n",
       "      <td>$46,500</td>\n",
       "      <td>5.0</td>\n",
       "      <td>12</td>\n",
       "      <td>Sonic Gray Pearl</td>\n",
       "      <td>Black</td>\n",
       "      <td>All-wheel Drive</td>\n",
       "      <td>...</td>\n",
       "      <td>5700429B</td>\n",
       "      <td>5</td>\n",
       "      <td>5.0</td>\n",
       "      <td>5.0</td>\n",
       "      <td>5.0</td>\n",
       "      <td>5.0</td>\n",
       "      <td>5.0</td>\n",
       "      <td>5.0</td>\n",
       "      <td>CA</td>\n",
       "      <td>Dealer</td>\n",
       "    </tr>\n",
       "    <tr>\n",
       "      <th>4</th>\n",
       "      <td>2023</td>\n",
       "      <td>Honda</td>\n",
       "      <td>CR-V Hybrid Sport Touring</td>\n",
       "      <td>New</td>\n",
       "      <td>$40,395</td>\n",
       "      <td>4.4</td>\n",
       "      <td>12</td>\n",
       "      <td>Crystal Black Pearl</td>\n",
       "      <td>Black</td>\n",
       "      <td>All-wheel Drive</td>\n",
       "      <td>...</td>\n",
       "      <td>5705954</td>\n",
       "      <td>5</td>\n",
       "      <td>5.0</td>\n",
       "      <td>3.0</td>\n",
       "      <td>4.0</td>\n",
       "      <td>4.0</td>\n",
       "      <td>5.0</td>\n",
       "      <td>5.0</td>\n",
       "      <td>CA</td>\n",
       "      <td>Dealer</td>\n",
       "    </tr>\n",
       "  </tbody>\n",
       "</table>\n",
       "<p>5 rows × 25 columns</p>\n",
       "</div>"
      ],
      "text/plain": [
       "   Year   Make                      Model Condition    Price  Consumer_Rating   \n",
       "0  2023  Honda              Ridgeline RTL       New  $46,370              4.8  \\\n",
       "1  2023  Honda          CR-V Hybrid Sport       New  $34,150              1.7   \n",
       "2  2023  Honda          CR-V Hybrid Sport       New  $34,245              4.7   \n",
       "3  2022  Honda           Pilot TrailSport       New  $46,500              5.0   \n",
       "4  2023  Honda  CR-V Hybrid Sport Touring       New  $40,395              4.4   \n",
       "\n",
       "   Consumer_Review_#           Exterior_Color Interior_Color   \n",
       "0                  9     Platinum White Pearl          Beige  \\\n",
       "1                 24     Platinum White Pearl          Black   \n",
       "2               2869  Meteorite Gray Metallic          Black   \n",
       "3                 12         Sonic Gray Pearl          Black   \n",
       "4                 12      Crystal Black Pearl          Black   \n",
       "\n",
       "          Drivetrain  ...   Stock_# Mileage Comfort_Rating   \n",
       "0    All-wheel Drive  ...  00830164      10            5.0  \\\n",
       "1                FWD  ...   6402953       –            5.0   \n",
       "2  Front-wheel Drive  ...  PH704805       1            5.0   \n",
       "3    All-wheel Drive  ...  5700429B       5            5.0   \n",
       "4    All-wheel Drive  ...   5705954       5            5.0   \n",
       "\n",
       "  Interior_Design_Rating Performance_Rating Value_For_Money_Rating   \n",
       "0                    4.8                4.8                    4.2  \\\n",
       "1                    3.0                4.0                    4.0   \n",
       "2                    3.0                4.0                    4.0   \n",
       "3                    5.0                5.0                    5.0   \n",
       "4                    3.0                4.0                    4.0   \n",
       "\n",
       "  Exterior_Styling_Rating  Reliability_Rating  State  Seller_Type  \n",
       "0                     5.0                 5.0     CA       Dealer  \n",
       "1                     5.0                 5.0     CA       Dealer  \n",
       "2                     5.0                 5.0     CA       Dealer  \n",
       "3                     5.0                 5.0     CA       Dealer  \n",
       "4                     5.0                 5.0     CA       Dealer  \n",
       "\n",
       "[5 rows x 25 columns]"
      ]
     },
     "execution_count": 14,
     "metadata": {},
     "output_type": "execute_result"
    }
   ],
   "source": [
    "enade.head()"
   ]
  },
  {
   "cell_type": "code",
   "execution_count": 15,
   "metadata": {},
   "outputs": [
    {
     "data": {
      "text/plain": [
       "Year                                       2023\n",
       "Make                                      Honda\n",
       "Model                          Pilot TrailSport\n",
       "Condition                                   New\n",
       "Price                                   $51,735\n",
       "Consumer_Rating                             5.0\n",
       "Consumer_Review_#                            12\n",
       "Exterior_Color                              Sky\n",
       "Interior_Color                            Black\n",
       "Drivetrain                                  AWD\n",
       "MPG                                         NaN\n",
       "Fuel_Type                              Gasoline\n",
       "Transmission                 10-Speed Automatic\n",
       "Engine                     3.5L V6 24V GDI DOHC\n",
       "VIN                           5FNYG1H63PB001393\n",
       "Stock_#                                   30443\n",
       "Mileage                                       –\n",
       "Comfort_Rating                              NaN\n",
       "Interior_Design_Rating                      NaN\n",
       "Performance_Rating                          NaN\n",
       "Value_For_Money_Rating                      NaN\n",
       "Exterior_Styling_Rating                     NaN\n",
       "Reliability_Rating                          NaN\n",
       "State                                        CA\n",
       "Seller_Type                              Dealer\n",
       "Name: 103, dtype: object"
      ]
     },
     "execution_count": 15,
     "metadata": {},
     "output_type": "execute_result"
    }
   ],
   "source": [
    "enade.loc[103]"
   ]
  },
  {
   "cell_type": "code",
   "execution_count": 16,
   "metadata": {},
   "outputs": [],
   "source": [
    "del enade['Interior_Design_Rating']"
   ]
  },
  {
   "cell_type": "code",
   "execution_count": 20,
   "metadata": {},
   "outputs": [],
   "source": [
    "from sklearn import tree\n",
    "from sklearn.model_selection import train_test_split"
   ]
  },
  {
   "cell_type": "code",
   "execution_count": 21,
   "metadata": {},
   "outputs": [
    {
     "name": "stderr",
     "output_type": "stream",
     "text": [
      "C:\\Users\\zzbre\\AppData\\Local\\Temp\\ipykernel_15632\\1658357926.py:2: SettingWithCopyWarning: \n",
      "A value is trying to be set on a copy of a slice from a DataFrame.\n",
      "Try using .loc[row_indexer,col_indexer] = value instead\n",
      "\n",
      "See the caveats in the documentation: https://pandas.pydata.org/pandas-docs/stable/user_guide/indexing.html#returning-a-view-versus-a-copy\n",
      "  df['Price'] = df['Price'].str.replace('$','')\n",
      "C:\\Users\\zzbre\\AppData\\Local\\Temp\\ipykernel_15632\\1658357926.py:3: SettingWithCopyWarning: \n",
      "A value is trying to be set on a copy of a slice from a DataFrame.\n",
      "Try using .loc[row_indexer,col_indexer] = value instead\n",
      "\n",
      "See the caveats in the documentation: https://pandas.pydata.org/pandas-docs/stable/user_guide/indexing.html#returning-a-view-versus-a-copy\n",
      "  df['Price'] = df['Price'].str.replace(',','.')\n"
     ]
    }
   ],
   "source": [
    "df = enade[['Year', 'Consumer_Rating', 'Drivetrain', 'Engine', 'Price']]\n",
    "df['Price'] = df['Price'].str.replace('$','')\n",
    "df['Price'] = df['Price'].str.replace(',','.')"
   ]
  },
  {
   "cell_type": "code",
   "execution_count": 22,
   "metadata": {},
   "outputs": [
    {
     "data": {
      "text/plain": [
       "(4999, 5)"
      ]
     },
     "execution_count": 22,
     "metadata": {},
     "output_type": "execute_result"
    }
   ],
   "source": [
    "df.shape"
   ]
  },
  {
   "cell_type": "code",
   "execution_count": 23,
   "metadata": {},
   "outputs": [],
   "source": [
    "df_encoded = pd.get_dummies(df, columns=['Consumer_Rating', 'Drivetrain', 'Engine'])"
   ]
  },
  {
   "cell_type": "code",
   "execution_count": 24,
   "metadata": {},
   "outputs": [],
   "source": [
    "X = df_encoded.drop('Price', axis=1)\n",
    "y = df_encoded['Price']"
   ]
  },
  {
   "cell_type": "code",
   "execution_count": 25,
   "metadata": {},
   "outputs": [],
   "source": [
    "X_train, X_test, y_train, y_test = train_test_split(X, y, test_size=0.2, random_state=42)"
   ]
  },
  {
   "cell_type": "code",
   "execution_count": 26,
   "metadata": {},
   "outputs": [
    {
     "data": {
      "text/plain": [
       "(3999, 119)"
      ]
     },
     "execution_count": 26,
     "metadata": {},
     "output_type": "execute_result"
    }
   ],
   "source": [
    "X_train\n",
    "X_train.shape"
   ]
  },
  {
   "cell_type": "code",
   "execution_count": 27,
   "metadata": {},
   "outputs": [
    {
     "data": {
      "text/plain": [
       "(1000, 119)"
      ]
     },
     "execution_count": 27,
     "metadata": {},
     "output_type": "execute_result"
    }
   ],
   "source": [
    "X_test\n",
    "X_test.shape"
   ]
  },
  {
   "cell_type": "code",
   "execution_count": 28,
   "metadata": {},
   "outputs": [],
   "source": [
    "clf = tree.DecisionTreeClassifier(criterion='entropy', max_depth=3)\n",
    "clf = clf.fit(X_train, y_train)\n",
    "predictions = clf.predict(X_test)"
   ]
  },
  {
   "cell_type": "code",
   "execution_count": 29,
   "metadata": {},
   "outputs": [
    {
     "data": {
      "text/plain": [
       "array(['40.240', '40.240', '19.998', '34.500', '24.995', '24.995',\n",
       "       '41.770', '30.470', '13.995', '30.470', '13.995', '34.500',\n",
       "       '13.995', '40.240', '29.195', '29.195', '29.195', '24.995',\n",
       "       '34.500', '24.995', '24.995', '41.770', '13.995', '40.240',\n",
       "       '24.995', '30.470', '34.500', '34.500', '29.195', '40.240',\n",
       "       '19.998', '41.770', '41.770', '19.998', '29.195', '13.995',\n",
       "       '40.240', '19.998', '19.998', '41.770', '40.240', '40.240',\n",
       "       '41.770', '19.998', '41.770', '24.995', '13.995', '41.770',\n",
       "       '40.240', '29.195', '40.240', '30.470', '40.240', '30.470',\n",
       "       '13.995', '40.240', '24.995', '40.240', '34.500', '34.500',\n",
       "       '34.500', '40.240', '19.998', '30.470', '34.500', '40.240',\n",
       "       '34.500', '34.500', '34.500', '19.998', '41.770', '41.770',\n",
       "       '29.195', '30.470', '29.195', '34.500', '19.998', '40.240',\n",
       "       '40.240', '19.998', '13.995', '40.240', '29.195', '29.195',\n",
       "       '13.995', '34.500', '19.998', '29.195', '40.240', '30.470',\n",
       "       '41.770', '41.770', '34.500', '19.998', '30.470', '40.240',\n",
       "       '41.770', '13.995', '30.470', '30.470', '19.998', '34.500',\n",
       "       '29.195', '34.500', '41.770', '30.470', '40.240', '40.240',\n",
       "       '40.240', '13.995', '34.500', '30.470', '41.770', '34.500',\n",
       "       '41.770', '19.998', '29.195', '29.195', '40.240', '13.995',\n",
       "       '29.195', '34.500', '13.995', '34.500', '19.998', '34.500',\n",
       "       '34.500', '34.500', '29.195', '29.195', '41.770', '30.470',\n",
       "       '24.995', '29.195', '40.240', '29.195', '30.470', '41.770',\n",
       "       '40.240', '29.195', '24.995', '41.770', '41.770', '19.998',\n",
       "       '29.195', '41.770', '19.998', '30.470', '29.195', '40.240',\n",
       "       '24.995', '24.995', '40.240', '40.240', '40.240', '30.470',\n",
       "       '34.500', '34.500', '40.240', '34.500', '24.995', '41.770',\n",
       "       '24.995', '24.995', '13.995', '13.995', '29.195', '24.995',\n",
       "       '34.500', '40.240', '41.770', '19.998', '41.770', '30.470',\n",
       "       '13.995', '13.995', '29.195', '40.240', '34.500', '19.998',\n",
       "       '41.770', '40.240', '40.240', '34.500', '40.240', '41.770',\n",
       "       '29.195', '24.995', '34.500', '30.470', '40.240', '40.240',\n",
       "       '13.995', '41.770', '41.770', '30.470', '40.240', '34.500',\n",
       "       '40.240', '29.195', '40.240', '30.470', '24.995', '30.470',\n",
       "       '19.998', '40.240', '29.195', '24.995', '34.500', '40.240',\n",
       "       '41.770', '24.995', '13.995', '40.240', '40.240', '41.770',\n",
       "       '19.998', '34.500', '40.240', '13.995', '13.995', '40.240',\n",
       "       '30.470', '41.770', '24.995', '19.998', '30.470', '30.470',\n",
       "       '30.470', '40.240', '30.470', '29.195', '13.995', '34.500',\n",
       "       '30.470', '34.500', '34.500', '41.770', '29.195', '41.770',\n",
       "       '34.500', '30.470', '40.240', '40.240', '30.470', '41.770',\n",
       "       '30.470', '41.770', '40.240', '19.998', '29.195', '30.470',\n",
       "       '30.470', '40.240', '40.240', '29.195', '41.770', '29.195',\n",
       "       '40.240', '34.500', '40.240', '13.995', '13.995', '19.998',\n",
       "       '24.995', '40.240', '19.998', '40.240', '40.240', '41.770',\n",
       "       '34.500', '30.470', '19.998', '30.470', '24.995', '19.998',\n",
       "       '24.995', '29.195', '41.770', '29.195', '29.195', '40.240',\n",
       "       '30.470', '19.998', '19.998', '13.995', '13.995', '41.770',\n",
       "       '24.995', '40.240', '30.470', '30.470', '24.995', '24.995',\n",
       "       '34.500', '40.240', '41.770', '40.240', '41.770', '30.470',\n",
       "       '19.998', '40.240', '13.995', '40.240', '30.470', '30.470',\n",
       "       '40.240', '40.240', '40.240', '30.470', '40.240', '40.240',\n",
       "       '13.995', '34.500', '29.195', '24.995', '40.240', '40.240',\n",
       "       '13.995', '24.995', '40.240', '40.240', '29.195', '40.240',\n",
       "       '24.995', '41.770', '29.195', '30.470', '30.470', '40.240',\n",
       "       '29.195', '40.240', '24.995', '41.770', '19.998', '13.995',\n",
       "       '24.995', '29.195', '29.195', '41.770', '24.995', '19.998',\n",
       "       '13.995', '19.998', '13.995', '29.195', '24.995', '29.195',\n",
       "       '19.998', '29.195', '30.470', '40.240', '40.240', '29.195',\n",
       "       '30.470', '41.770', '40.240', '29.195', '19.998', '34.500',\n",
       "       '19.998', '40.240', '29.195', '29.195', '34.500', '19.998',\n",
       "       '40.240', '40.240', '30.470', '40.240', '19.998', '13.995',\n",
       "       '13.995', '29.195', '41.770', '30.470', '13.995', '13.995',\n",
       "       '34.500', '30.470', '19.998', '30.470', '29.195', '41.770',\n",
       "       '19.998', '40.240', '30.470', '19.998', '24.995', '29.195',\n",
       "       '29.195', '30.470', '41.770', '41.770', '41.770', '29.195',\n",
       "       '30.470', '24.995', '30.470', '40.240', '40.240', '34.500',\n",
       "       '41.770', '40.240', '40.240', '19.998', '19.998', '34.500',\n",
       "       '19.998', '13.995', '29.195', '41.770', '41.770', '29.195',\n",
       "       '41.770', '29.195', '34.500', '29.195', '19.998', '29.195',\n",
       "       '34.500', '41.770', '40.240', '34.500', '30.470', '41.770',\n",
       "       '41.770', '29.195', '40.240', '40.240', '30.470', '41.770',\n",
       "       '34.500', '19.998', '40.240', '30.470', '30.470', '41.770',\n",
       "       '24.995', '30.470', '41.770', '41.770', '41.770', '29.195',\n",
       "       '40.240', '41.770', '40.240', '24.995', '30.470', '41.770',\n",
       "       '41.770', '13.995', '24.995', '30.470', '29.195', '24.995',\n",
       "       '30.470', '24.995', '19.998', '41.770', '34.500', '13.995',\n",
       "       '34.500', '24.995', '41.770', '24.995', '40.240', '40.240',\n",
       "       '40.240', '40.240', '34.500', '41.770', '40.240', '24.995',\n",
       "       '24.995', '29.195', '13.995', '13.995', '40.240', '34.500',\n",
       "       '34.500', '41.770', '40.240', '34.500', '40.240', '19.998',\n",
       "       '29.195', '19.998', '24.995', '34.500', '40.240', '40.240',\n",
       "       '40.240', '30.470', '41.770', '40.240', '24.995', '24.995',\n",
       "       '40.240', '24.995', '24.995', '40.240', '13.995', '13.995',\n",
       "       '41.770', '40.240', '34.500', '41.770', '29.195', '19.998',\n",
       "       '24.995', '30.470', '41.770', '30.470', '19.998', '30.470',\n",
       "       '29.195', '19.998', '19.998', '40.240', '19.998', '40.240',\n",
       "       '30.470', '30.470', '30.470', '30.470', '29.195', '19.998',\n",
       "       '41.770', '24.995', '13.995', '40.240', '13.995', '40.240',\n",
       "       '29.195', '19.998', '30.470', '40.240', '29.195', '34.500',\n",
       "       '29.195', '19.998', '29.195', '30.470', '34.500', '24.995',\n",
       "       '29.195', '13.995', '41.770', '19.998', '30.470', '29.195',\n",
       "       '29.195', '29.195', '30.470', '30.470', '40.240', '19.998',\n",
       "       '29.195', '24.995', '24.995', '29.195', '40.240', '29.195',\n",
       "       '29.195', '41.770', '34.500', '40.240', '41.770', '19.998',\n",
       "       '34.500', '41.770', '40.240', '41.770', '24.995', '41.770',\n",
       "       '41.770', '30.470', '34.500', '19.998', '40.240', '19.998',\n",
       "       '34.500', '19.998', '29.195', '40.240', '13.995', '40.240',\n",
       "       '41.770', '40.240', '19.998', '30.470', '19.998', '40.240',\n",
       "       '40.240', '19.998', '29.195', '30.470', '29.195', '19.998',\n",
       "       '19.998', '40.240', '30.470', '40.240', '30.470', '29.195',\n",
       "       '41.770', '40.240', '41.770', '41.770', '40.240', '30.470',\n",
       "       '40.240', '19.998', '24.995', '40.240', '40.240', '41.770',\n",
       "       '40.240', '40.240', '24.995', '30.470', '41.770', '34.500',\n",
       "       '41.770', '29.195', '41.770', '30.470', '29.195', '19.998',\n",
       "       '30.470', '29.195', '29.195', '24.995', '24.995', '30.470',\n",
       "       '40.240', '34.500', '30.470', '30.470', '13.995', '29.195',\n",
       "       '24.995', '40.240', '40.240', '13.995', '24.995', '30.470',\n",
       "       '29.195', '30.470', '24.995', '41.770', '34.500', '29.195',\n",
       "       '29.195', '40.240', '41.770', '29.195', '40.240', '34.500',\n",
       "       '29.195', '30.470', '40.240', '41.770', '24.995', '41.770',\n",
       "       '29.195', '19.998', '40.240', '34.500', '40.240', '30.470',\n",
       "       '13.995', '34.500', '24.995', '30.470', '40.240', '41.770',\n",
       "       '30.470', '13.995', '40.240', '24.995', '30.470', '40.240',\n",
       "       '41.770', '29.195', '40.240', '24.995', '40.240', '30.470',\n",
       "       '41.770', '41.770', '30.470', '13.995', '24.995', '24.995',\n",
       "       '24.995', '24.995', '30.470', '41.770', '30.470', '19.998',\n",
       "       '13.995', '41.770', '30.470', '29.195', '29.195', '24.995',\n",
       "       '24.995', '41.770', '30.470', '30.470', '34.500', '41.770',\n",
       "       '41.770', '19.998', '41.770', '24.995', '19.998', '24.995',\n",
       "       '29.195', '40.240', '40.240', '13.995', '13.995', '19.998',\n",
       "       '30.470', '24.995', '29.195', '24.995', '24.995', '41.770',\n",
       "       '30.470', '40.240', '34.500', '29.195', '34.500', '34.500',\n",
       "       '30.470', '34.500', '40.240', '19.998', '19.998', '34.500',\n",
       "       '24.995', '19.998', '34.500', '40.240', '19.998', '30.470',\n",
       "       '24.995', '29.195', '24.995', '41.770', '40.240', '40.240',\n",
       "       '30.470', '40.240', '41.770', '13.995', '24.995', '13.995',\n",
       "       '40.240', '29.195', '19.998', '41.770', '29.195', '29.195',\n",
       "       '19.998', '29.195', '34.500', '24.995', '30.470', '29.195',\n",
       "       '34.500', '13.995', '34.500', '40.240', '24.995', '34.500',\n",
       "       '41.770', '41.770', '41.770', '41.770', '40.240', '29.195',\n",
       "       '41.770', '29.195', '41.770', '29.195', '30.470', '40.240',\n",
       "       '30.470', '30.470', '29.195', '34.500', '34.500', '19.998',\n",
       "       '19.998', '40.240', '29.195', '34.500', '30.470', '19.998',\n",
       "       '41.770', '41.770', '29.195', '41.770', '41.770', '29.195',\n",
       "       '40.240', '30.470', '30.470', '34.500', '40.240', '41.770',\n",
       "       '41.770', '29.195', '41.770', '19.998', '34.500', '41.770',\n",
       "       '13.995', '41.770', '41.770', '40.240', '30.470', '29.195',\n",
       "       '24.995', '41.770', '19.998', '41.770', '41.770', '40.240',\n",
       "       '29.195', '30.470', '41.770', '29.195', '19.998', '30.470',\n",
       "       '13.995', '24.995', '41.770', '40.240', '41.770', '24.995',\n",
       "       '40.240', '41.770', '29.195', '41.770', '29.195', '34.500',\n",
       "       '24.995', '13.995', '41.770', '40.240', '13.995', '40.240',\n",
       "       '30.470', '40.240', '30.470', '13.995', '41.770', '29.195',\n",
       "       '13.995', '13.995', '24.995', '41.770', '41.770', '30.470',\n",
       "       '13.995', '29.195', '29.195', '40.240', '40.240', '41.770',\n",
       "       '30.470', '40.240', '30.470', '41.770', '34.500', '24.995',\n",
       "       '19.998', '19.998', '24.995', '41.770', '40.240', '40.240',\n",
       "       '41.770', '30.470', '34.500', '19.998', '34.500', '34.500',\n",
       "       '19.998', '29.195', '34.500', '40.240', '30.470', '19.998',\n",
       "       '19.998', '29.195', '13.995', '41.770', '24.995', '40.240',\n",
       "       '41.770', '30.470', '40.240', '34.500', '41.770', '41.770',\n",
       "       '19.998', '41.770', '34.500', '40.240', '19.998', '40.240',\n",
       "       '13.995', '41.770', '13.995', '41.770', '41.770', '40.240',\n",
       "       '13.995', '41.770', '41.770', '13.995', '41.770', '19.998',\n",
       "       '34.500', '29.195', '24.995', '30.470', '29.195', '40.240',\n",
       "       '34.500', '40.240', '40.240', '24.995', '40.240', '19.998',\n",
       "       '40.240', '40.240', '19.998', '40.240', '34.500', '19.998',\n",
       "       '41.770', '30.470', '34.500', '29.195', '40.240', '34.500',\n",
       "       '24.995', '30.470', '13.995', '41.770', '34.500', '40.240',\n",
       "       '29.195', '41.770', '19.998', '30.470', '40.240', '34.500',\n",
       "       '34.500', '30.470', '19.998', '30.470', '40.240', '34.500',\n",
       "       '41.770', '34.500', '30.470', '24.995', '40.240', '34.500',\n",
       "       '30.470', '41.770', '40.240', '19.998', '29.195', '24.995',\n",
       "       '40.240', '30.470', '40.240', '19.998', '30.470', '24.995',\n",
       "       '13.995', '41.770', '19.998', '19.998', '40.240', '29.195',\n",
       "       '29.195', '34.500', '34.500', '41.770'], dtype=object)"
      ]
     },
     "execution_count": 29,
     "metadata": {},
     "output_type": "execute_result"
    }
   ],
   "source": [
    "predictions "
   ]
  },
  {
   "cell_type": "code",
   "execution_count": 30,
   "metadata": {},
   "outputs": [
    {
     "name": "stdout",
     "output_type": "stream",
     "text": [
      "\n",
      "Matriz de confusão detalhada:\n",
      " Predito     13.995  19.998  24.995  29.195  30.470  34.500  40.240  41.770   \n",
      "Real                                                                         \n",
      "10.950           1       0       0       0       0       0       0       0  \\\n",
      "10.988           1       0       0       0       0       0       0       0   \n",
      "10.990           1       0       0       0       0       0       0       0   \n",
      "10.995           1       0       0       0       0       0       0       0   \n",
      "11.450           1       0       0       0       0       0       0       0   \n",
      "...            ...     ...     ...     ...     ...     ...     ...     ...   \n",
      "9.725            1       0       0       0       0       0       0       0   \n",
      "9.995            1       0       0       0       0       0       0       0   \n",
      "9.999            1       0       0       0       0       0       0       0   \n",
      "Not Priced       0       0       0       1       0       0       4       3   \n",
      "Todos           73     105      98     130     134     108     195     157   \n",
      "\n",
      "Predito     Todos  \n",
      "Real               \n",
      "10.950          1  \n",
      "10.988          1  \n",
      "10.990          1  \n",
      "10.995          1  \n",
      "11.450          1  \n",
      "...           ...  \n",
      "9.725           1  \n",
      "9.995           1  \n",
      "9.999           1  \n",
      "Not Priced      8  \n",
      "Todos        1000  \n",
      "\n",
      "[683 rows x 9 columns]\n"
     ]
    }
   ],
   "source": [
    "print(\"\\nMatriz de confusão detalhada:\\n\",\n",
    " pd.crosstab(y_test, predictions, rownames=['Real'], colnames=['Predito'],margins=True, margins_name='Todos'))"
   ]
  },
  {
   "cell_type": "code",
   "execution_count": 31,
   "metadata": {},
   "outputs": [],
   "source": [
    "X_train, X_test, y_train, y_test = train_test_split(X, y, test_size=0.2, random_state=42)"
   ]
  },
  {
   "cell_type": "code",
   "execution_count": 32,
   "metadata": {},
   "outputs": [
    {
     "data": {
      "text/html": [
       "<style>#sk-container-id-1 {color: black;background-color: white;}#sk-container-id-1 pre{padding: 0;}#sk-container-id-1 div.sk-toggleable {background-color: white;}#sk-container-id-1 label.sk-toggleable__label {cursor: pointer;display: block;width: 100%;margin-bottom: 0;padding: 0.3em;box-sizing: border-box;text-align: center;}#sk-container-id-1 label.sk-toggleable__label-arrow:before {content: \"▸\";float: left;margin-right: 0.25em;color: #696969;}#sk-container-id-1 label.sk-toggleable__label-arrow:hover:before {color: black;}#sk-container-id-1 div.sk-estimator:hover label.sk-toggleable__label-arrow:before {color: black;}#sk-container-id-1 div.sk-toggleable__content {max-height: 0;max-width: 0;overflow: hidden;text-align: left;background-color: #f0f8ff;}#sk-container-id-1 div.sk-toggleable__content pre {margin: 0.2em;color: black;border-radius: 0.25em;background-color: #f0f8ff;}#sk-container-id-1 input.sk-toggleable__control:checked~div.sk-toggleable__content {max-height: 200px;max-width: 100%;overflow: auto;}#sk-container-id-1 input.sk-toggleable__control:checked~label.sk-toggleable__label-arrow:before {content: \"▾\";}#sk-container-id-1 div.sk-estimator input.sk-toggleable__control:checked~label.sk-toggleable__label {background-color: #d4ebff;}#sk-container-id-1 div.sk-label input.sk-toggleable__control:checked~label.sk-toggleable__label {background-color: #d4ebff;}#sk-container-id-1 input.sk-hidden--visually {border: 0;clip: rect(1px 1px 1px 1px);clip: rect(1px, 1px, 1px, 1px);height: 1px;margin: -1px;overflow: hidden;padding: 0;position: absolute;width: 1px;}#sk-container-id-1 div.sk-estimator {font-family: monospace;background-color: #f0f8ff;border: 1px dotted black;border-radius: 0.25em;box-sizing: border-box;margin-bottom: 0.5em;}#sk-container-id-1 div.sk-estimator:hover {background-color: #d4ebff;}#sk-container-id-1 div.sk-parallel-item::after {content: \"\";width: 100%;border-bottom: 1px solid gray;flex-grow: 1;}#sk-container-id-1 div.sk-label:hover label.sk-toggleable__label {background-color: #d4ebff;}#sk-container-id-1 div.sk-serial::before {content: \"\";position: absolute;border-left: 1px solid gray;box-sizing: border-box;top: 0;bottom: 0;left: 50%;z-index: 0;}#sk-container-id-1 div.sk-serial {display: flex;flex-direction: column;align-items: center;background-color: white;padding-right: 0.2em;padding-left: 0.2em;position: relative;}#sk-container-id-1 div.sk-item {position: relative;z-index: 1;}#sk-container-id-1 div.sk-parallel {display: flex;align-items: stretch;justify-content: center;background-color: white;position: relative;}#sk-container-id-1 div.sk-item::before, #sk-container-id-1 div.sk-parallel-item::before {content: \"\";position: absolute;border-left: 1px solid gray;box-sizing: border-box;top: 0;bottom: 0;left: 50%;z-index: -1;}#sk-container-id-1 div.sk-parallel-item {display: flex;flex-direction: column;z-index: 1;position: relative;background-color: white;}#sk-container-id-1 div.sk-parallel-item:first-child::after {align-self: flex-end;width: 50%;}#sk-container-id-1 div.sk-parallel-item:last-child::after {align-self: flex-start;width: 50%;}#sk-container-id-1 div.sk-parallel-item:only-child::after {width: 0;}#sk-container-id-1 div.sk-dashed-wrapped {border: 1px dashed gray;margin: 0 0.4em 0.5em 0.4em;box-sizing: border-box;padding-bottom: 0.4em;background-color: white;}#sk-container-id-1 div.sk-label label {font-family: monospace;font-weight: bold;display: inline-block;line-height: 1.2em;}#sk-container-id-1 div.sk-label-container {text-align: center;}#sk-container-id-1 div.sk-container {/* jupyter's `normalize.less` sets `[hidden] { display: none; }` but bootstrap.min.css set `[hidden] { display: none !important; }` so we also need the `!important` here to be able to override the default hidden behavior on the sphinx rendered scikit-learn.org. See: https://github.com/scikit-learn/scikit-learn/issues/21755 */display: inline-block !important;position: relative;}#sk-container-id-1 div.sk-text-repr-fallback {display: none;}</style><div id=\"sk-container-id-1\" class=\"sk-top-container\"><div class=\"sk-text-repr-fallback\"><pre>DecisionTreeClassifier(criterion=&#x27;entropy&#x27;, max_depth=3)</pre><b>In a Jupyter environment, please rerun this cell to show the HTML representation or trust the notebook. <br />On GitHub, the HTML representation is unable to render, please try loading this page with nbviewer.org.</b></div><div class=\"sk-container\" hidden><div class=\"sk-item\"><div class=\"sk-estimator sk-toggleable\"><input class=\"sk-toggleable__control sk-hidden--visually\" id=\"sk-estimator-id-1\" type=\"checkbox\" checked><label for=\"sk-estimator-id-1\" class=\"sk-toggleable__label sk-toggleable__label-arrow\">DecisionTreeClassifier</label><div class=\"sk-toggleable__content\"><pre>DecisionTreeClassifier(criterion=&#x27;entropy&#x27;, max_depth=3)</pre></div></div></div></div></div>"
      ],
      "text/plain": [
       "DecisionTreeClassifier(criterion='entropy', max_depth=3)"
      ]
     },
     "execution_count": 32,
     "metadata": {},
     "output_type": "execute_result"
    }
   ],
   "source": [
    "clf"
   ]
  },
  {
   "cell_type": "code",
   "execution_count": 33,
   "metadata": {},
   "outputs": [],
   "source": [
    "y_pred = (predictions)"
   ]
  },
  {
   "cell_type": "code",
   "execution_count": 34,
   "metadata": {},
   "outputs": [
    {
     "data": {
      "text/plain": [
       "Year                                       2023\n",
       "Make                                      Honda\n",
       "Model                          Pilot TrailSport\n",
       "Condition                                   New\n",
       "Price                                   $51,735\n",
       "Consumer_Rating                             5.0\n",
       "Consumer_Review_#                            12\n",
       "Exterior_Color                              Sky\n",
       "Interior_Color                            Black\n",
       "Drivetrain                                  AWD\n",
       "MPG                                         NaN\n",
       "Fuel_Type                              Gasoline\n",
       "Transmission                 10-Speed Automatic\n",
       "Engine                     3.5L V6 24V GDI DOHC\n",
       "VIN                           5FNYG1H63PB001393\n",
       "Stock_#                                   30443\n",
       "Mileage                                       –\n",
       "Comfort_Rating                              NaN\n",
       "Performance_Rating                          NaN\n",
       "Value_For_Money_Rating                      NaN\n",
       "Exterior_Styling_Rating                     NaN\n",
       "Reliability_Rating                          NaN\n",
       "State                                        CA\n",
       "Seller_Type                              Dealer\n",
       "Name: 103, dtype: object"
      ]
     },
     "execution_count": 34,
     "metadata": {},
     "output_type": "execute_result"
    }
   ],
   "source": [
    "enade.loc[103]"
   ]
  }
 ],
 "metadata": {
  "kernelspec": {
   "display_name": "Python 3",
   "language": "python",
   "name": "python3"
  },
  "language_info": {
   "codemirror_mode": {
    "name": "ipython",
    "version": 3
   },
   "file_extension": ".py",
   "mimetype": "text/x-python",
   "name": "python",
   "nbconvert_exporter": "python",
   "pygments_lexer": "ipython3",
   "version": "3.10.7"
  },
  "orig_nbformat": 4
 },
 "nbformat": 4,
 "nbformat_minor": 2
}
